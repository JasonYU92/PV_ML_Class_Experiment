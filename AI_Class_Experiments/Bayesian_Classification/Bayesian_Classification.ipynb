{
 "cells": [
  {
   "cell_type": "markdown",
   "metadata": {
    "collapsed": true
   },
   "source": [
    "# 1. 训练集和测试集的产生"
   ]
  },
  {
   "cell_type": "markdown",
   "metadata": {},
   "source": [
    "## 数据导入"
   ]
  },
  {
   "cell_type": "code",
   "execution_count": 20,
   "metadata": {},
   "outputs": [],
   "source": [
    "import numpy as np\n",
    "\n",
    "PV_w1=np.loadtxt('D:/杭电与人工智能研究院/光伏教仪/人工智能课程案例/课程实验课件/机器学习课程实验一___贝叶斯估计/课程实验程序/数据/Normal_data.txt')\n",
    "PV_w2=np.loadtxt('D:/杭电与人工智能研究院/光伏教仪/人工智能课程案例/课程实验课件/机器学习课程实验一___贝叶斯估计/课程实验程序/数据/Fault_data.txt')"
   ]
  },
  {
   "cell_type": "markdown",
   "metadata": {},
   "source": [
    "# 2. 随机抽取数据作为训练数据与测试数据"
   ]
  },
  {
   "cell_type": "code",
   "execution_count": 21,
   "metadata": {},
   "outputs": [],
   "source": [
    "Num_train=40\n",
    "#在各组中随机抽取Num_train个训练样本\n",
    "#随机打乱各组数据循序\n",
    "temp_w1=np.random.permutation(50)\n",
    "\n",
    "temp_w2=np.random.permutation(50)\n",
    "#训练集40个样本\n",
    "data_train_w1=PV_w1[temp_w1[0:Num_train],:]\n",
    "data_train_w2=PV_w2[temp_w2[0:Num_train],:]\n",
    "#测试集40个样本\n",
    "data_test_w1=PV_w1[temp_w1[Num_train:len(PV_w1)],:]\n",
    "data_test_w2=PV_w2[temp_w2[Num_train:len(PV_w2)],:]\n"
   ]
  },
  {
   "cell_type": "markdown",
   "metadata": {},
   "source": [
    "# 3. 分类器的训练"
   ]
  },
  {
   "cell_type": "code",
   "execution_count": 22,
   "metadata": {},
   "outputs": [],
   "source": [
    "#计算两类训练数据的均值向量\n",
    "avr_w1=np.mean(data_train_w1,axis=0)  #按列求均值\n",
    "avr_w2=np.mean(data_train_w2,axis=0)  #按列求均值\n",
    "#计算两类训练数据的协方差\n",
    "#计算w1类的协方差矩阵\n",
    "dim0=data_train_w1[:,0]\n",
    "dim1=data_train_w1[:,1]\n",
    "dim2=data_train_w1[:,2]\n",
    "dim3=data_train_w1[:,3]\n",
    "var_01=sum((dim0 - avr_w1[0]) * (dim1 - avr_w1[1])) / (len(data_train_w1) - 1)\n",
    "var_02=sum((dim0 - avr_w1[0]) * (dim2 - avr_w1[2])) / (len(data_train_w1) - 1)\n",
    "var_03=sum((dim0 - avr_w1[0]) * (dim3 - avr_w1[3])) / (len(data_train_w1) - 1)\n",
    "var_12=sum((dim1 - avr_w1[1]) * (dim2 - avr_w1[2])) / (len(data_train_w1) - 1)\n",
    "var_13=sum((dim1 - avr_w1[1]) * (dim3 - avr_w1[3])) / (len(data_train_w1) - 1)\n",
    "var_23=sum((dim2 - avr_w1[2]) * (dim3 - avr_w1[3])) / (len(data_train_w1) - 1)\n",
    "var_01=sum((dim0 - avr_w1[0]) * (dim1 - avr_w1[1])) / (len(data_train_w1) - 1)\n",
    "var_02=sum((dim0 - avr_w1[0]) * (dim2 - avr_w1[2])) / (len(data_train_w1) - 1)\n",
    "var_03=sum((dim0 - avr_w1[0]) * (dim3 - avr_w1[3])) / (len(data_train_w1) - 1)\n",
    "var_12=sum((dim1 - avr_w1[1]) * (dim2 - avr_w1[2])) / (len(data_train_w1) - 1)\n",
    "var_13=sum((dim1 - avr_w1[1]) * (dim3 - avr_w1[3])) / (len(data_train_w1) - 1)\n",
    "var_23=sum((dim2 - avr_w1[2]) * (dim3 - avr_w1[3])) / (len(data_train_w1) - 1)\n",
    "\n",
    "avr_dim0=np.var(dim0)\n",
    "avr_dim1=np.var(dim1)\n",
    "avr_dim2=np.var(dim2)\n",
    "avr_dim3=np.var(dim3)\n",
    "\n",
    "cov_w1=[[avr_dim0, var_01, var_02 ,var_03],[var_01 ,avr_dim1 ,var_12 ,var_13],[var_02 ,var_12 ,avr_dim2 ,var_23],[var_03 ,var_13 ,var_23 ,avr_dim3]]\n",
    "\n",
    "#计算w2类的协方差矩阵\n",
    "dim0=data_train_w2[:,0]\n",
    "dim1=data_train_w2[:,1]\n",
    "dim2=data_train_w2[:,2]\n",
    "dim3=data_train_w2[:,3]\n",
    "\n",
    "var_01=sum((dim0 - avr_w2[0]) * (dim1 - avr_w2[1])) / (len(data_train_w2) - 1)\n",
    "var_02=sum((dim0 - avr_w2[0]) * (dim2 - avr_w2[2])) / (len(data_train_w2) - 1)\n",
    "var_03=sum((dim0 - avr_w2[0]) * (dim3 - avr_w2[3])) / (len(data_train_w2) - 1)\n",
    "var_12=sum((dim1 - avr_w2[1]) * (dim2 - avr_w2[2])) / (len(data_train_w2) - 1)\n",
    "var_13=sum((dim1 - avr_w2[1]) * (dim3 - avr_w2[3])) / (len(data_train_w2) - 1)\n",
    "var_23=sum((dim2 - avr_w2[2]) * (dim3 - avr_w2[3])) / (len(data_train_w2) - 1)\n",
    "\n",
    "avr_dim0=np.var(dim0)\n",
    "avr_dim1=np.var(dim1)\n",
    "avr_dim2=np.var(dim2)\n",
    "avr_dim3=np.var(dim3)\n",
    "\n",
    "cov_w2=[[avr_dim0, var_01, var_02 ,var_03],[var_01 ,avr_dim1 ,var_12 ,var_13],[var_02 ,var_12 ,avr_dim2 ,var_23],[var_03 ,var_13 ,var_23 ,avr_dim3]]\n",
    "cov_w1=np.mat(cov_w1)\n",
    "cov_w2=np.mat(cov_w2)\n"
   ]
  },
  {
   "cell_type": "markdown",
   "metadata": {},
   "source": [
    "# 4. 测试模型"
   ]
  },
  {
   "cell_type": "code",
   "execution_count": 23,
   "metadata": {},
   "outputs": [
    {
     "name": "stdout",
     "output_type": "stream",
     "text": [
      "0.0\n",
      "0.9\n"
     ]
    }
   ],
   "source": [
    "import math as m\n",
    "#先验概率\n",
    "P_w1=1/2;\n",
    "P_w2=1/2;\n",
    "\n",
    "#合并数据集\n",
    "data_test=np.vstack((data_test_w1,data_test_w1))\n",
    "\n",
    "error_w1=0\n",
    "error_w2=0\n",
    "\n",
    "avr_w1=np.mat(avr_w1)\n",
    "avr_w2=np.mat(avr_w2)\n",
    "\n",
    "data_test=np.mat(data_test)\n",
    "for i in range(0,20):\n",
    "    #导入测试数据\n",
    "    x=data_test[i,:]\n",
    "    #计算测试向量的判决函数\n",
    "    J1=-0.5*(x-avr_w1)*cov_w1.I*(x-avr_w1).T+m.log(P_w1)-0.5*m.log(np.linalg.det(cov_w1))\n",
    "    J2=-0.5*(x-avr_w2)*cov_w2.I*(x-avr_w2).T+m.log(P_w2)-0.5*m.log(np.linalg.det(cov_w2))\n",
    "    #分类\n",
    "    #类w1测试样本误判为类w2\n",
    "    if (i<=(50-Num_train) and J1 <= J2):\n",
    "        error_w1=error_w1+1\n",
    "    #类w2测试样本误判为类w1\n",
    "    if (i>(50-Num_train) and J1 > J2):\n",
    "        error_w2=error_w2+1\n",
    "\n",
    "#计算分类错误率\n",
    "\n",
    "error_rate_w1=error_w1/(50-Num_train)\n",
    "error_rate_w2=error_w2/(50-Num_train)\n",
    "print(error_rate_w1)\n",
    "print(error_rate_w2)\n",
    "\n"
   ]
  },
  {
   "cell_type": "code",
   "execution_count": null,
   "metadata": {
    "collapsed": true
   },
   "outputs": [],
   "source": []
  }
 ],
 "metadata": {
  "kernelspec": {
   "display_name": "Python 3",
   "language": "python",
   "name": "python3"
  },
  "language_info": {
   "codemirror_mode": {
    "name": "ipython",
    "version": 3
   },
   "file_extension": ".py",
   "mimetype": "text/x-python",
   "name": "python",
   "nbconvert_exporter": "python",
   "pygments_lexer": "ipython3",
   "version": "3.6.4"
  }
 },
 "nbformat": 4,
 "nbformat_minor": 2
}
