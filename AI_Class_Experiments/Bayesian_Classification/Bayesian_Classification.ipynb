{
 "cells": [
  {
   "cell_type": "markdown",
   "metadata": {
    "collapsed": true
   },
   "source": [
    "# 1. 训练集和测试集的产生"
   ]
  },
  {
   "cell_type": "markdown",
   "metadata": {},
   "source": [
    "## 数据导入"
   ]
  },
  {
   "cell_type": "code",
   "execution_count": 281,
   "metadata": {},
   "outputs": [
    {
     "data": {
      "text/plain": [
       "(800, 3)"
      ]
     },
     "execution_count": 281,
     "metadata": {},
     "output_type": "execute_result"
    }
   ],
   "source": [
    "import numpy as np\n",
    "\n",
    "#PV_w1=np.loadtxt('D:/杭电与人工智能研究院/光伏教仪/人工智能课程案例/课程实验课件/机器学习课程实验一___贝叶斯估计/课程实验程序/数据/Normal_data.txt')\n",
    "\n",
    "Training_Data=np.loadtxt('D:/杭电与人工智能研究院/光伏教仪/人工智能课程案例/课程实验课件/机器学习课程实验一___贝叶斯估计/课程实\\\n",
    "验程序/数据/Training_Data.txt')\n",
    "Training_Data.shape"
   ]
  },
  {
   "cell_type": "markdown",
   "metadata": {},
   "source": [
    "# 2. 随机抽取数据作为训练数据与测试数据"
   ]
  },
  {
   "cell_type": "code",
   "execution_count": 271,
   "metadata": {},
   "outputs": [
    {
     "name": "stdout",
     "output_type": "stream",
     "text": [
      "(320, 2)\n",
      "(320, 2)\n",
      "(80, 2)\n",
      "(80, 2)\n"
     ]
    }
   ],
   "source": [
    "# Training_Data 800*3  400组正常运行数据  400组阴影遮挡数据 \n",
    "#训练数据与测试数据比例4：1\n",
    "m,n=Training_Data.shape\n",
    "\n",
    "#在各组中随机地抽取Num_train个训练样本\n",
    "Num_train=int(m//2*0.8)\n",
    "temp_w1=np.random.permutation(m//2)\n",
    "temp_w2=400+np.random.permutation(m//2)\n",
    "\n",
    "#训练集w1和w2各Num_train个样本\n",
    "Data_Train_W1=Training_Data[temp_w1[0:Num_train],0:2]\n",
    "Data_Train_W2=Training_Data[temp_w2[0:Num_train],0:2]\n",
    "\n",
    "#测试集w1和w2各m//2-Num_train个样本\n",
    "Data_Test_W1=Training_Data[temp_w1[Num_train:m//2],0:2]\n",
    "Data_Test_W2=Training_Data[temp_w2[Num_train:m//2],0:2]\n",
    "\n",
    "print(Data_Train_W1.shape)\n",
    "print(Data_Train_W2.shape)\n",
    "print(Data_Test_W1.shape)\n",
    "print(Data_Test_W2.shape)"
   ]
  },
  {
   "cell_type": "markdown",
   "metadata": {},
   "source": [
    "# 3. 分类器的训练"
   ]
  },
  {
   "cell_type": "code",
   "execution_count": 272,
   "metadata": {
    "collapsed": true
   },
   "outputs": [],
   "source": [
    "#计算两类训练数据的均值向量\n",
    "avr_w1=np.mean(Data_Train_W1,axis=0)  #按列求均值\n",
    "avr_w2=np.mean(Data_Train_W2,axis=0)  #按列求均值\n"
   ]
  },
  {
   "cell_type": "markdown",
   "metadata": {},
   "source": [
    "## 计算两类训练数据的协方差"
   ]
  },
  {
   "cell_type": "code",
   "execution_count": 273,
   "metadata": {
    "collapsed": true
   },
   "outputs": [],
   "source": [
    "#计算w1类的协方差矩阵\n",
    "dim0_w1=Data_Train_W1[:,0]\n",
    "dim1_w1=Data_Train_W1[:,1]\n",
    "\n",
    "var_01_w1=sum((dim0_w1 - avr_w1[0]) * (dim1_w1 - avr_w1[1])) / (len(Data_Train_W1) - 1)\n",
    "\n",
    "avr_dim0_w1=np.var(dim0_w1)\n",
    "avr_dim1_w1=np.var(dim1_w1)\n",
    "\n",
    "cov_w1=[[avr_dim0_w1, var_01_w1],[var_01_w1,avr_dim1_w1]]\n",
    "\n",
    "#计算w2类的协方差矩阵\n",
    "dim0_w2=Data_Train_W2[:,0]\n",
    "dim1_w2=Data_Train_W2[:,1]\n",
    "\n",
    "var_01_w2=sum((dim0_w2 - avr_w2[0]) * (dim1_w2 - avr_w2[1])) / (len(Data_Train_W2) - 1)\n",
    "\n",
    "avr_dim0_w2=np.var(dim0_w2)\n",
    "avr_dim1_w2=np.var(dim1_w2)\n",
    "\n",
    "cov_w2=[[avr_dim0_w2, var_01_w2],[var_01_w2 ,avr_dim1_w2 ]]\n",
    "\n",
    "#转换为矩阵形式\n",
    "cov_w1=np.mat(cov_w1)\n",
    "cov_w2=np.mat(cov_w2)"
   ]
  },
  {
   "cell_type": "markdown",
   "metadata": {},
   "source": [
    "# 4. 测试模型"
   ]
  },
  {
   "cell_type": "code",
   "execution_count": 275,
   "metadata": {},
   "outputs": [
    {
     "name": "stdout",
     "output_type": "stream",
     "text": [
      "w1正确率: 65.00%\n",
      "w2正确率: 72.50%\n",
      "w1误分到w2: 35.00%\n",
      "w2误分到w1: 27.50%\n"
     ]
    }
   ],
   "source": [
    "\n",
    "import math as m\n",
    "#先验概率\n",
    "P_w1=1/2;\n",
    "P_w2=1/2;\n",
    "#合并数据集\n",
    "Data_Test=np.vstack((Data_Test_W1,Data_Test_W2))\n",
    "correct_w1=[0,0]\n",
    "correct_w2=[0,0]\n",
    "error_w1=[0,0]\n",
    "error_w2=[0,0]\n",
    "\n",
    "avr_w1=np.mat(avr_w1)\n",
    "avr_w2=np.mat(avr_w2)\n",
    "data_test=np.mat(Data_Test)\n",
    "\n",
    "for i in range(0,160):\n",
    "    #导入测试数据\n",
    "    x=Data_Test[i,:]\n",
    "    #计算测试向量的判决函数\n",
    "    J1=float(-0.5*(x-avr_w1)*cov_w1.I*(x-avr_w1).T+m.log(P_w1)-0.5*m.log(np.linalg.det(cov_w1)))\n",
    "    J2=float(-0.5*(x-avr_w2)*cov_w2.I*(x-avr_w2).T+m.log(P_w2)-0.5*m.log(np.linalg.det(cov_w2)))\n",
    "    #print(J1)\n",
    "    #print(J2)\n",
    "    #分类\n",
    "    #类w1测试样本归为类w1\n",
    "    if (i<80 and J1 >= J2):\n",
    "        correct_w1=np.vstack((correct_w1,Data_Test[i,:]))\n",
    "    #类w2测试样本归为类w2\n",
    "    elif i>=80 and J1 < J2:\n",
    "        correct_w2=np.vstack((correct_w2,Data_Test[i,:]))\n",
    "    #类w1测试样本误判为类w2\n",
    "    elif (i<80 and J1 < J2):\n",
    "        error_w1=np.vstack((error_w1,Data_Test[i,:]))\n",
    "    #类w2测试样本误判为类w1\n",
    "    elif (i>=80 and J1 >= J2):\n",
    "        error_w2=np.vstack((error_w2,Data_Test[i,:]))\n",
    "\n",
    "##计算分类的正确率与错误率\n",
    "Num_correct_w1=len(correct_w1)-1\n",
    "Num_correct_w2=len(correct_w2)-1\n",
    "Num_error_w1=len(error_w1)-1\n",
    "Num_error_w2=len(error_w2)-1\n",
    "\n",
    "error_rate_w1=Num_error_w1/80\n",
    "error_rate_w2=Num_error_w2/80\n",
    "correct_rate_w1=1-error_rate_w1\n",
    "correct_rate_w2=1-error_rate_w2\n",
    "\n",
    "print('w1正确率: %2.2f%%'%(correct_rate_w1*100))\n",
    "print('w2正确率: %2.2f%%'%(correct_rate_w2*100))\n",
    "print('w1误分到w2: %2.2f%%'%(error_rate_w1*100))\n",
    "print('w2误分到w1: %2.2f%%'%(error_rate_w2*100))\n",
    "\n"
   ]
  },
  {
   "cell_type": "markdown",
   "metadata": {},
   "source": [
    "# 5. 结果可视化"
   ]
  },
  {
   "cell_type": "code",
   "execution_count": 279,
   "metadata": {},
   "outputs": [
    {
     "data": {
      "image/png": "[encoded data removed]",
      "text/plain": [
       "<matplotlib.figure.Figure at 0x24d85e38828>"
      ]
     },
     "metadata": {},
     "output_type": "display_data"
    }
   ],
   "source": [
    "#画图 两分类结果\n",
    "import matplotlib.pyplot as plt  #Python导入Matplotlib包，专门用于绘图\n",
    "#显示中文和负号\n",
    "\n",
    "#plt.rcParams['font.sas-serig']=['SimHei'] #用来正常显示中文标签\n",
    "#plt.rcParams['axes.unicode_minus']=False #用来正常显示负号\n",
    "plt.figure(figsize=(12, 6))  # 窗口大小\n",
    "\n",
    "c1, =plt.plot(correct_w2[1:len(correct_w2),0], correct_w2[1:len(correct_w2),1],'w',markerfacecolor='#00BFFF',\\\n",
    "              marker='o')\n",
    "c2, =plt.plot(correct_w1[1:len(correct_w1),0], correct_w1[1:len(correct_w1),1],'w',markerfacecolor='#FF00FF', \\\n",
    "              marker='v')\n",
    "c3, =plt.plot(error_w1[1:len(error_w1),0], error_w1[1:len(error_w1),1],'w',markerfacecolor='y', marker='o')\n",
    "c4, =plt.plot(error_w2[1:len(error_w2),0], error_w2[1:len(error_w2),1],'w',markerfacecolor='r', marker='v')\n",
    "\n",
    "plt.xlabel('The output of PV array(V)')\n",
    "plt.xlabel('The output of PV array(V)')\n",
    "\n",
    "plt.title('Bayesian_Classification')\n",
    "plt.legend([c1, c2, c3, c4], [\"Class 1\", \"Class 2\",  \"Class 1 misclassify into class 2\"\\\n",
    "                              ,  \"Class 2 misclassify into class 1\"], loc=1)\n",
    "\n",
    "# 显示图形\n",
    "plt.show()"
   ]
  },
  {
   "cell_type": "code",
   "execution_count": null,
   "metadata": {
    "collapsed": true
   },
   "outputs": [],
   "source": []
  }
 ],
 "metadata": {
  "kernelspec": {
   "display_name": "Python 3",
   "language": "python",
   "name": "python3"
  },
  "language_info": {
   "codemirror_mode": {
    "name": "ipython",
    "version": 3
   },
   "file_extension": ".py",
   "mimetype": "text/x-python",
   "name": "python",
   "nbconvert_exporter": "python",
   "pygments_lexer": "ipython3",
   "version": "3.5.4"
  }
 },
 "nbformat": 4,
 "nbformat_minor": 2
}
