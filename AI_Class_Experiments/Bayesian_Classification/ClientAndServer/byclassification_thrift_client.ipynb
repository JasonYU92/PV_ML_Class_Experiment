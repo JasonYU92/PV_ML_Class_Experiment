{
 "cells": [
  {
   "cell_type": "code",
   "execution_count": 1,
   "metadata": {},
   "outputs": [
    {
     "name": "stdout",
     "output_type": "stream",
     "text": [
      "start\n",
      "ping()\n",
      "done!!!\n"
     ]
    }
   ],
   "source": [
    "from thrift import Thrift\n",
    "from thrift.transport import TSocket\n",
    "from thrift.transport import TTransport\n",
    "from thrift.protocol import TBinaryProtocol\n",
    "\n",
    "from TransData import UploadParamsService\n",
    "__HOST = '127.0.0.1'\n",
    "__PORT = 7777\n",
    "\n",
    "try:\n",
    "    # Make socket\n",
    "    transport = TSocket.TSocket(__HOST, __PORT)\n",
    "\n",
    "    # Buffering is critical. Raw sockets are very slow\n",
    "    transport = TTransport.TBufferedTransport(transport)\n",
    "\n",
    "    # Wrap in a protocol\n",
    "    protocol = TBinaryProtocol.TBinaryProtocol(transport)\n",
    "\n",
    "    # Create a client to use the protocol encoder\n",
    "    client = UploadParamsService.Client(protocol)\n",
    "\n",
    "    # Connect!\n",
    "    transport.open()\n",
    "\n",
    "    #start\n",
    "    print('start') \n",
    "\n",
    "    #client.ping()\n",
    "    print('ping()')\n",
    "\n",
    "    dict = {'Alice': '2341', 'Beth': '9102', 'Cecil': '3258'}\n",
    "    dd=client.UploadParams(dict)\n",
    "    print(dd)\n",
    "   \n",
    "    # close\n",
    "    transport.close()\n",
    "    \n",
    "except Thrift.TException as e:  \n",
    "    print('-----exceptino-----')   \n",
    "    print(e)   \n",
    "    "
   ]
  }
 ],
 "metadata": {
  "kernelspec": {
   "display_name": "Python 3",
   "language": "python",
   "name": "python3"
  },
  "language_info": {
   "codemirror_mode": {
    "name": "ipython",
    "version": 3
   },
   "file_extension": ".py",
   "mimetype": "text/x-python",
   "name": "python",
   "nbconvert_exporter": "python",
   "pygments_lexer": "ipython3",
   "version": "3.6.4"
  }
 },
 "nbformat": 4,
 "nbformat_minor": 2
}
