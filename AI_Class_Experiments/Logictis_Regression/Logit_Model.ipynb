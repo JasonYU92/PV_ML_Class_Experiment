{
 "cells": [
  {
   "cell_type": "markdown",
   "metadata": {},
   "source": [
    "# 1. 导入工具包"
   ]
  },
  {
   "cell_type": "code",
   "execution_count": 26,
   "metadata": {
    "collapsed": true
   },
   "outputs": [],
   "source": [
    "import numpy as np\n",
    "import random as rd\n",
    "import time\n"
   ]
  },
  {
   "cell_type": "markdown",
   "metadata": {},
   "source": [
    "# 2. 数据集导入和随机选择"
   ]
  },
  {
   "cell_type": "code",
   "execution_count": 165,
   "metadata": {},
   "outputs": [],
   "source": [
    "from sklearn.linear_model.logistic import LogisticRegression\n",
    "#导入两类数据组\n",
    "Training_Data=np.loadtxt('D:\\杭电与人工智能研究院\\光伏教仪\\人工智能课程案例\\课程实验课件\\机器学习课程实验二___逻辑回归\\数据\\Training_Data.txt')\n",
    "#print(TrainingData.shape)\n",
    "\n",
    "# Training_Data 800*3  400组正常运行数据  400组阴影遮挡数据 \n",
    "#训练数据与测试数据比例4：1\n",
    "m,n=Training_Data.shape\n",
    "\n",
    "#在各组中随机地抽取Num_train个训练样本\n",
    "Num_train=int(m//2*0.8)\n",
    "\n",
    "temp_w1=np.random.permutation(m//2)\n",
    "temp_w2=400+np.random.permutation(m//2)\n",
    "\n",
    "\n",
    "#训练集\n",
    "X_train=Training_Data[temp_w1[0:Num_train],0:2]\n",
    "X_train=np.vstack((X_train,Training_Data[temp_w2[0:Num_train],0:2]))     \n",
    "\n",
    "Y_train=Training_Data[temp_w1[0:Num_train],2]\n",
    "Y_train=np.hstack((Y_train,Training_Data[temp_w2[0:Num_train],2]))  \n",
    "\n",
    "X_test=Training_Data[temp_w1[Num_train:m],0:2]\n",
    "X_test=np.vstack((X_test,Training_Data[temp_w2[Num_train:m],0:2])) \n",
    "\n",
    "Y_test=Training_Data[temp_w1[Num_train:m],2]\n",
    "Y_test=np.hstack((Y_test,Training_Data[temp_w2[Num_train:m],2]))\n",
    "\n",
    "#转化为numpy.array\n",
    "X_train=np.array(X_train)\n",
    "Y_train=np.array(Y_train)\n",
    "X_test=np.array(X_test)\n",
    "Y_test=np.array(Y_test)\n"
   ]
  },
  {
   "cell_type": "markdown",
   "metadata": {},
   "source": [
    "# 3.逻辑回归训练"
   ]
  },
  {
   "cell_type": "code",
   "execution_count": 166,
   "metadata": {},
   "outputs": [
    {
     "name": "stdout",
     "output_type": "stream",
     "text": [
      "160组数据的测试误差 ：25.62 %\n"
     ]
    }
   ],
   "source": [
    "\n",
    "#LogisticRegression实现了fit()和predict()方法\n",
    "classifier=LogisticRegression()\n",
    "classifier.fit(X_train,Y_train)\n",
    "predictions=classifier.predict(X_test)\n",
    "\n",
    "#误差\n",
    "error=predictions-Y_test\n",
    "#误差率\n",
    "acc=0\n",
    "for i in range(len(error)):\n",
    "    acc=acc+abs(error[i])\n",
    "\n",
    "Misclassification_Rate=acc/len(error)\n",
    "print('160组数据的测试误差 ：%2.2f %%' %(Misclassification_Rate*100))\n",
    "\n",
    "correct_w1=[0,0]\n",
    "correct_w2=[0,0]\n",
    "error_w1=[0,0]\n",
    "error_w2=[0,0]\n",
    "for i in range(0,160):\n",
    "   \n",
    "    #类w1测试样本归为类w1\n",
    "    if (i<80 and predictions[i]==0):\n",
    "        correct_w1=np.vstack((correct_w1,X_test[i,:]))\n",
    "    #类w2测试样本归为类w2\n",
    "    elif i>=80 and predictions[i]==1:\n",
    "        correct_w2=np.vstack((correct_w2,X_test[i,:]))\n",
    "    #类w1测试样本误判为类w2\n",
    "    elif (i<80 and predictions[i]==1):\n",
    "        error_w1=np.vstack((error_w1,X_test[i,:]))\n",
    "    #类w2测试样本误判为类w1\n",
    "    elif (i>=80 and predictions[i]==0):\n",
    "        error_w2=np.vstack((error_w2,X_test[i,:]))"
   ]
  },
  {
   "cell_type": "markdown",
   "metadata": {},
   "source": [
    "# 4. 数据可视化"
   ]
  },
  {
   "cell_type": "code",
   "execution_count": 162,
   "metadata": {},
   "outputs": [
    {
     "data": {
      "image/png": "[encoded data removed]",
      "text/plain": [
       "<matplotlib.figure.Figure at 0x270f6361128>"
      ]
     },
     "metadata": {},
     "output_type": "display_data"
    }
   ],
   "source": [
    "# 画图 两分类结果\n",
    "import matplotlib.pyplot as plt  #Python导入Matplotlib包，专门用于绘图\n",
    "#显示中文和负号\n",
    "\n",
    "#plt.rcParams['font.sas-serig']=['SimHei'] #用来正常显示中文标签\n",
    "#plt.rcParams['axes.unicode_minus']=False #用来正常显示负号\n",
    "plt.figure(figsize=(12, 6))  # 窗口大小\n",
    "\n",
    "c1, =plt.plot(correct_w1[1:len(correct_w1),0], correct_w1[1:len(correct_w1),1],'w',markerfacecolor='#00BFFF',\\\n",
    "              marker='o')\n",
    "c2, =plt.plot(correct_w2[1:len(correct_w2),0], correct_w2[1:len(correct_w2),1],'w',markerfacecolor='#FF00FF', \\\n",
    "              marker='v')\n",
    "c3, =plt.plot(error_w1[1:len(error_w1),0], error_w1[1:len(error_w1),1],'w',markerfacecolor='y', marker='o')\n",
    "c4, =plt.plot(error_w2[1:len(error_w2),0], error_w2[1:len(error_w2),1],'w',markerfacecolor='r', marker='v')\n",
    "\n",
    "plt.xlabel('The output of PV array(V)')\n",
    "plt.xlabel('The output of PV array(V)')\n",
    "\n",
    "plt.title('LogisticRegression_Classification')\n",
    "plt.legend([c1, c2, c3, c4], [\"Class 1\", \"Class 2\",  \"Class 1 misclassify into class 2\"\\\n",
    "                              ,  \"Class 2 misclassify into class 1\"], loc=1)\n",
    "\n",
    "# 显示图形\n",
    "plt.show()"
   ]
  }
 ],
 "metadata": {
  "kernelspec": {
   "display_name": "Python 3",
   "language": "python",
   "name": "python3"
  },
  "language_info": {
   "codemirror_mode": {
    "name": "ipython",
    "version": 3
   },
   "file_extension": ".py",
   "mimetype": "text/x-python",
   "name": "python",
   "nbconvert_exporter": "python",
   "pygments_lexer": "ipython3",
   "version": "3.5.4"
  }
 },
 "nbformat": 4,
 "nbformat_minor": 2
}
