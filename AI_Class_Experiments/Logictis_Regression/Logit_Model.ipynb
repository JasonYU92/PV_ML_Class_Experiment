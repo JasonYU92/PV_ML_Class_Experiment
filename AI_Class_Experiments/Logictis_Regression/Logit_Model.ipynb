{
 "cells": [
  {
   "cell_type": "code",
   "execution_count": 20,
   "metadata": {},
   "outputs": [
    {
     "name": "stdout",
     "output_type": "stream",
     "text": [
      "cost time : 0.10811138153076172\n",
      "20组数据的测试误差 ：10.00 %\n"
     ]
    },
    {
     "name": "stderr",
     "output_type": "stream",
     "text": [
      "C:\\Users\\yuweijie\\AppData\\Local\\Continuum\\anaconda3\\envs\\tensorflow\\lib\\site-packages\\ipykernel_launcher.py:17: RuntimeWarning: overflow encountered in exp\n"
     ]
    }
   ],
   "source": [
    "#coding:utf-8\n",
    "\n",
    "import numpy as np\n",
    "import random as rd\n",
    "import time\n",
    "\n",
    "#定义逻辑回归类\n",
    "class Logistic:\n",
    " \n",
    "    def __init__(self):\n",
    "        self._w = None \n",
    "        self._dataIn = []\n",
    "        self._labels = []\n",
    "    \n",
    "    #定义sigmoid函数\n",
    "    def _sigmoid(self,inX):\n",
    "        return 1.0/(1+np.exp(-inX))\n",
    "    \n",
    "    #拟合函数   数据集  标签 \n",
    "    def fit(self,dataSet,labels,trainN,alpha=0.01,printTime=False):\n",
    "        length = len(dataSet)\n",
    "        if length != len(labels):\n",
    "            raise  ValueError(\"DataSet and labels must have same length\")\n",
    "            \n",
    "        #输入数据集\n",
    "        dataIn = np.array(dataSet)\n",
    "        #输入数据集的行和列\n",
    "        m,n = dataIn.shape \n",
    "        #初始化weight,可以使用随机值\n",
    "        weight = np.ones(n)\n",
    "        #开始时间\n",
    "        t1 = time.time()\n",
    "        #迭代次数\n",
    "        for i in range(trainN):\n",
    "            #随机选取数据集长度以内的一个索引\n",
    "            randIndex = rd.choice(range(length))\n",
    "            #得到一个输出期望    1 if int(labels[randIndex]) > 0 else 0\n",
    "            excepted = labels[randIndex]\n",
    "            #sigmoid函数得到函数输出\n",
    "            result = self._sigmoid(sum(dataIn[randIndex]*weight))\n",
    "            #根据result  直接转化为1 或 0\n",
    "            result = 1 if result > 0.5 else 0\n",
    "            #误差\n",
    "            error  = excepted - result\n",
    "            #权值更新公式\n",
    "            weight += error * alpha *dataIn[randIndex]\n",
    "            #动态学习率\n",
    "            alpha = 4/(1+i)+0.01\n",
    "            \n",
    "        #结束时间\n",
    "        t2 = time.time()\n",
    "        #打印时间\n",
    "        if printTime:\n",
    "            print(\"cost time : %s\" %(t2-t1))\n",
    "        \n",
    "        #返回 参数值  输入数据 和标签\n",
    "        self._w = weight\n",
    "        self._dataIn = dataIn\n",
    "        self._labels = labels\n",
    "        return self\n",
    "    \n",
    "\n",
    "    #分类函数\n",
    "    def classify(self, inX):\n",
    "        inx = np.array(inX)\n",
    "        if not isinstance(self._w, np.ndarray):\n",
    "            raise ValueError(\"You must train the model!\")\n",
    "        if len(inx) != len(self._w):\n",
    "            raise ValueError(\"InX must be %d unit\" % (len(self._w)))\n",
    "        \n",
    "        res = 1 if self._sigmoid(sum(inx*self._w)) > 0.5 else 0\n",
    "        return res  \n",
    "    \n",
    "    \n",
    "\n",
    "#导入两类数据组\n",
    "TrainingData=np.loadtxt('D:/杭电与人工智能研究院/光伏教仪/人工智能课程案例/课程实验课件/2机器学习课程实验二___逻辑回归/数据/TraingData.txt')\n",
    "TrainingData.shape\n",
    "Label=np.loadtxt('D:/杭电与人工智能研究院/光伏教仪/人工智能课程案例/课程实验课件/2机器学习课程实验二___逻辑回归/数据/Label.txt')\n",
    "\n",
    "#定义 训练集和测试集的输入输出\n",
    "X_train=[]\n",
    "Y_train=[]\n",
    "X_test=[]\n",
    "Y_test=[]\n",
    "\n",
    "for i in range(0,2):\n",
    "    temp=i*50+np.random.permutation(50)\n",
    "    \n",
    "    #训练集 40个样本为训练集\n",
    "    X_train.extend(TrainingData[temp[0:40],0:4])\n",
    "    Y_train.extend(Label[temp[0:40]])\n",
    " \n",
    "    #测试集   10个样本为测试集\n",
    "    X_test.extend(TrainingData[temp[40:50],0:4])\n",
    "    Y_test.extend(Label[temp[40:50]])\n",
    "\n",
    "\n",
    "#转化为numpy.array\n",
    "X_train=np.array(X_train)\n",
    "Y_train=np.array(Y_train)\n",
    "X_test=np.array(X_test)\n",
    "Y_test=np.array(Y_test)\n",
    "\n",
    "#创建一个logit实例\n",
    "logit=Logistic()\n",
    "\n",
    "logit_fit=logit.fit(X_train,Y_train,10000,0.01,1)\n",
    "\n",
    "\n",
    "Result=[]\n",
    "m,n=X_test.shape\n",
    "for i in range(m):\n",
    "    logit_classify=logit.classify(X_test[i,:])\n",
    "    Result.append(logit_classify)\n",
    "\n",
    "#误差\n",
    "error=Result- Y_test\n",
    "#误差率\n",
    "acc=0\n",
    "for i in range(len(error)):\n",
    "    acc=acc+abs(error[i])/len(error)\n",
    "\n",
    "print('20组数据的测试误差 ：%2.2f %%' %(acc*100))\n"
   ]
  },
  {
   "cell_type": "code",
   "execution_count": 21,
   "metadata": {},
   "outputs": [
    {
     "data": {
      "text/plain": [
       "[0, 0, 0, 0, 0, 1, 0, 1, 0, 0, 1, 1, 1, 1, 1, 1, 1, 1, 1, 1]"
      ]
     },
     "execution_count": 21,
     "metadata": {},
     "output_type": "execute_result"
    }
   ],
   "source": [
    "Result"
   ]
  },
  {
   "cell_type": "code",
   "execution_count": null,
   "metadata": {
    "collapsed": true
   },
   "outputs": [],
   "source": []
  }
 ],
 "metadata": {
  "kernelspec": {
   "display_name": "Python 3",
   "language": "python",
   "name": "python3"
  },
  "language_info": {
   "codemirror_mode": {
    "name": "ipython",
    "version": 3
   },
   "file_extension": ".py",
   "mimetype": "text/x-python",
   "name": "python",
   "nbconvert_exporter": "python",
   "pygments_lexer": "ipython3",
   "version": "3.5.4"
  }
 },
 "nbformat": 4,
 "nbformat_minor": 2
}
